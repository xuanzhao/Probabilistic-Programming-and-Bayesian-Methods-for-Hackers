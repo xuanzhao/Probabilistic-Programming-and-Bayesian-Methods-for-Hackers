{
 "cells": [
  {
   "cell_type": "code",
   "execution_count": 2,
   "metadata": {
    "collapsed": true
   },
   "outputs": [],
   "source": [
    "%matplotlib inline\n",
    "from IPython.core.pylabtools import figsize\n",
    "import numpy as np\n",
    "from matplotlib import pyplot as plt\n"
   ]
  },
  {
   "cell_type": "markdown",
   "metadata": {},
   "source": [
    "加载每天我收到的短信数量数据。"
   ]
  },
  {
   "cell_type": "code",
   "execution_count": 3,
   "metadata": {
    "collapsed": false
   },
   "outputs": [
    {
     "data": {
      "image/png": "[encoded data removed]",
      "text/plain": [
       "<matplotlib.figure.Figure at 0x78df860>"
      ]
     },
     "metadata": {},
     "output_type": "display_data"
    }
   ],
   "source": [
    "figsize(12.5, 3.5)\n",
    "count_data = np.loadtxt(\"data/txtdata.csv\")\n",
    "n_count_data = len(count_data)\n",
    "plt.bar(np.arange(n_count_data), count_data, color=\"#348ABD\")\n",
    "plt.xlabel(\"Time (days)\")\n",
    "plt.ylabel(\"count of text-msgs received\")\n",
    "plt.title(\"Did the user's texting habits change over time?\")\n",
    "plt.xlim(0, n_count_data);"
   ]
  },
  {
   "cell_type": "markdown",
   "metadata": {},
   "source": [
    "观察上面的数据，你可以说出在不同的时期发生了行为的变化吗？\n",
    "\n",
    "正如之前讨论过的，对于这种count data，Poisson分布很适合拟合它们。我们用$C_i$来表示第$i$天收到的短信数量。\n",
    "\n",
    "$$ C_i \\sim \\text{Poisson}(\\lambda)$$\n",
    "\n",
    "观察图，我们发现在稍后的时期，收到短信的频率会增加，这等于是说$\\lambda$在某个时间点值变大了。（更高的$\\lambda$值表明有更高的概率出现更多的短信。）\n",
    "\n",
    "我们如何用数学公式表示这一现象呢？假设那个时间点用$\\tau$表示，在$\\tau$之前，我们的模型是$\\lambda_1$，在$\\tau$之后，我们的模型是$\\lambda_2$。我们称$\\tau$为*switchpoingt*。\n",
    "\n",
    "$$\n",
    "\\lambda = \n",
    "\\begin{cases}\n",
    "\\lambda_1 & \\text{if} t \\lt \\tau \\cr\n",
    "\\lambda_2 & \\text{if} t \\ge \\tau\n",
    "\\end{cases}\n",
    "$$\n",
    "\n",
    "在实际中，如果没有发生频率突然改变，那么$\\lambda_1 = lambda_2$，则两个$\\lambda$的后验概率分布相同。\n",
    "\n",
    "我们如何对未知的$\\lambda$建模呢？对$\\lambda$而言，什么是好的先验假设呢？因为$\\lambda$可以是任何正实数，而几何分布可以提供这样一个连续的正实数分布，所以几何分布会是一个不错的假设。但是，几何分布同样也有自己的参数$\\alpha$，所以对我们的模型来说，还需要引入$\\lambda$。\n",
    "\n",
    "\\begin{align}\n",
    "\\lambda_1 \\sim \\text{Exp}(\\alpha) \\\\\n",
    "\\lambda_2 \\sim \\text{Exp}(\\alpha)\n",
    "\\end{align}\n",
    "\n",
    "在我们的模型里，$\\alpha$被称为超参数或父变量。用术语讲，就是它影响其他参数。$\\alpha$的初始假设对模型的影响并不强烈，所以我们需要一个灵活的选择。一个实用的经验法则是设置几何分布的参数$\\alpha$等于观测数据平均数的倒数。\n",
    "\n",
    "$$ \\frac{1}{N}\\sum_{i=0}^N \\;C_i \\approx E[\\; \\lambda \\; | \\; \\alpha] = \\frac{1}{\\alpha}$$\n",
    "\n",
    "实际上，可以对超参数$\\alpha$优化，即为每个$\\lambda$指定一个超参数$\\alpha$。这里我们模型的两个$\\lambda$公用一个$\\alpha$。\n",
    "\n",
    "那$\\tau$应该如何假设它的值呢？因为存在数据存在噪音，所以某天当$\\tau$发生时，这很难对$\\tau$给出一个合理的先验概率假设。取而代之，我们给$\\tau$一个uniform prior belief for every possible day。用公式来说就是：\n",
    "\n",
    "\\begin{align}\n",
    "&\\tau \\sim \\text{DiscreteUniform(1,70)} \\\\\n",
    "&\\Rightarrow P(\\tau=k) = \\frac{1}{70}\n",
    "\\end{align}\n",
    "\n",
    "对于模型的所有未知变量而言，它们的先验分布长什么样？坦白讲，这无所谓。因为对于参数的先验分布实际上是很扯淡的，我们真正关心的是经过观察数据的校正，得到的模型参数的后验概率分布。"
   ]
  },
  {
   "cell_type": "code",
   "execution_count": 4,
   "metadata": {
    "collapsed": false
   },
   "outputs": [
    {
     "name": "stderr",
     "output_type": "stream",
     "text": [
      "WARNING (theano.configdefaults): g++ not available, if using conda: `conda install m2w64-toolchain`\n",
      "WARNING (theano.configdefaults): g++ not detected ! Theano will be unable to execute optimized C-implementations (for both CPU and GPU) and will default to Python implementations. Performance will be severely degraded. To remove this warning, set Theano flags cxx to an empty string.\n"
     ]
    }
   ],
   "source": [
    "import pymc3 as pm\n",
    "import theano.tensor as tt\n",
    "\n",
    "with pm.Model() as model:\n",
    "    alpha = 1.0 / count_data.mean()\n",
    "    \n",
    "    lambda_1 = pm.Exponential('lambda_1', alpha)\n",
    "    lambda_2 = pm.Exponential('lambda_2', alpha)\n",
    "    \n",
    "    tau = pm.DiscreteUniform('tau', lower=0, upper=n_count_data - 1)"
   ]
  },
  {
   "cell_type": "markdown",
   "metadata": {},
   "source": [
    "上面的代码创建了随机变量$\\lambda_1$,$\\lambda_2$,$\\tau$，它们都是随机变量生成器。"
   ]
  },
  {
   "cell_type": "code",
   "execution_count": 5,
   "metadata": {
    "collapsed": true
   },
   "outputs": [],
   "source": [
    "with model:\n",
    "    idx = np.arange(n_count_data) # Index\n",
    "    lambda_ = pm.math.switch(idx < tau, lambda_1, lambda_2)"
   ]
  },
  {
   "cell_type": "markdown",
   "metadata": {},
   "source": [
    "上面的代码创建了一个新方程`lambda_`，但是实际上我们可以把它看做一个随机变量：来自上面随机数生成器的随机变量$\\lambda$。`lambda_`被赋值为`lambda_1`还是`lambda_2`是由`tau`决定的。条件为真时，`lambda_` are `lambda_1` else `lambda_2`.\n",
    "\n",
    "因为`lambda_1`,`lambda_2`,`tau`都是随机变量，所以`lambda_`也是随机变量。我们到目前为止还没有**固定**任何变量的取值。"
   ]
  },
  {
   "cell_type": "code",
   "execution_count": 6,
   "metadata": {
    "collapsed": true
   },
   "outputs": [],
   "source": [
    "with model:\n",
    "    observation = pm.Poisson('obs', lambda_, observed=count_data)"
   ]
  },
  {
   "cell_type": "code",
   "execution_count": 10,
   "metadata": {
    "collapsed": false
   },
   "outputs": [
    {
     "name": "stderr",
     "output_type": "stream",
     "text": [
      "100%|█████████████████████████████████████████████████████████████████████████████████████████████████████████████████████████████████████████████████████████████████████████████████████████████████████████████████████████| 15000/15000 [05:37<00:00, 44.50it/s]\n"
     ]
    }
   ],
   "source": [
    "with model:\n",
    "    step = pm.Metropolis()\n",
    "    trace = pm.sample(10000, tune=5000, step=step)"
   ]
  },
  {
   "cell_type": "markdown",
   "metadata": {},
   "source": [
    "上面的代码实现了Markov Chain Monte Carlo(MCMC)技术。这个技术返回上千个从随机变量$\\lambda_1$,$\\lambda_2$,$\\tau$采样的值。我们可以画图看看这三个随机变量的分布长什么样子。"
   ]
  },
  {
   "cell_type": "code",
   "execution_count": 11,
   "metadata": {
    "collapsed": true
   },
   "outputs": [],
   "source": [
    "lambda_1_samples = trace['lambda_1']\n",
    "lambda_2_samples = trace['lambda_2']\n",
    "tau_samples = trace['tau']"
   ]
  },
  {
   "cell_type": "code",
   "execution_count": 22,
   "metadata": {
    "collapsed": false
   },
   "outputs": [
    {
     "data": {
      "image/png": "[encoded data removed]",
      "text/plain": [
       "<matplotlib.figure.Figure at 0xc6fa6d8>"
      ]
     },
     "metadata": {},
     "output_type": "display_data"
    }
   ],
   "source": [
    "import seaborn as sns\n",
    "\n",
    "figsize(12.5, 10)\n",
    "#histogram of the samples:\n",
    "\n",
    "ax = plt.subplot(311)\n",
    "ax.set_autoscaley_on(False)\n",
    "\n",
    "plt.hist(lambda_1_samples, histtype='stepfilled', bins=30, alpha=0.85,\n",
    "         label=\"posterior of $\\lambda_1$\", color=\"#A60628\", normed=True)\n",
    "plt.legend(loc=\"upper left\")\n",
    "plt.title(r\"\"\"Posterior distributions of the variables\n",
    "    $\\lambda_1,\\;\\lambda_2,\\;\\tau$\"\"\")\n",
    "plt.xlim([15, 30])\n",
    "plt.xlabel(\"$\\lambda_1$ value\")\n",
    "\n",
    "ax = plt.subplot(312)\n",
    "ax.set_autoscaley_on(False)\n",
    "plt.hist(lambda_2_samples, histtype='stepfilled', bins=30, alpha=0.85,\n",
    "         label=\"posterior of $\\lambda_2$\", color=\"#7A68A6\", normed=True)\n",
    "plt.legend(loc=\"upper left\")\n",
    "plt.xlim([15, 30])\n",
    "plt.xlabel(\"$\\lambda_2$ value\")\n",
    "\n",
    "plt.subplot(313)\n",
    "w = 1.0 / tau_samples.shape[0] * np.ones_like(tau_samples)\n",
    "plt.hist(tau_samples, bins=n_count_data, alpha=1,\n",
    "        label='posterior of $\\tau$',\n",
    "        color='#456821', weights=w, rwidth=2.)\n",
    "plt.xticks(np.arange(n_count_data))\n",
    "plt.legend(loc=\"upper left\")\n",
    "plt.ylim([0, .75])\n",
    "plt.xlim([35, len(count_data)-20])\n",
    "plt.xlabel(r\"$\\tau$ (in days)\")\n",
    "plt.ylabel(\"probability\");"
   ]
  },
  {
   "cell_type": "markdown",
   "metadata": {},
   "source": [
    "### 解释MCMC\n",
    "\n",
    "从结果我们可以看出我们对模型参数估计值的不确定性：参数的分布越分散，越不确定。我们还可以看出合理的参数$\\lambda_1$在18附近，$\\lambda_2$在23附近。两个$\\lambda$的后验分布明显的不同，这表明收到的短信数的分布确实发生了变化。\n",
    "\n",
    "注意到$\\lambda$的后验分布长得并不像几何分布，尽管$\\lambda$的先验分布是几何分布。实际上，后验分布并不是我们从原始模型中识别的任何形式。但这也没什么不好的，这就是采用计算观点考虑问题的好处之一。如果是用数学方法来分析数据，那么也许我们会陷入到无法分析的分布中。使用计算方法解决数学问题使我们不用关心数学技巧。\n",
    "\n",
    "同时模型还得到了关于$tau$的分布。它的后验分布是个离散随机变量，所以它在区间上没有概率值。我们可以看到在第45天附近，有50%的几率发生了行为的变化。如果没有行为的变化或者随时间渐渐发生行为变化，那么$tau$的后验概率分布将会有个宽的区间取值，这反映出了有许多天有合理的可能的$tau$值大于`idx`。对比真实数据，实际结果说明只有3或者4天作为潜在的switch point。"
   ]
  },
  {
   "cell_type": "code",
   "execution_count": 23,
   "metadata": {
    "collapsed": false
   },
   "outputs": [
    {
     "data": {
      "text/plain": [
       "array([43, 43, 42, ..., 44, 44, 44], dtype=int64)"
      ]
     },
     "execution_count": 23,
     "metadata": {},
     "output_type": "execute_result"
    }
   ],
   "source": [
    "tau_samples"
   ]
  },
  {
   "cell_type": "code",
   "execution_count": 24,
   "metadata": {
    "collapsed": false
   },
   "outputs": [
    {
     "data": {
      "text/plain": [
       "array([ 17.3151406 ,  17.3151406 ,  17.3151406 , ...,  18.69461416,\n",
       "        18.69461416,  18.47387322])"
      ]
     },
     "execution_count": 24,
     "metadata": {},
     "output_type": "execute_result"
    }
   ],
   "source": [
    "lambda_1_samples"
   ]
  },
  {
   "cell_type": "code",
   "execution_count": 27,
   "metadata": {
    "collapsed": false
   },
   "outputs": [
    {
     "data": {
      "text/plain": [
       "<matplotlib.legend.Legend at 0xe5735c0>"
      ]
     },
     "execution_count": 27,
     "metadata": {},
     "output_type": "execute_result"
    },
    {
     "data": {
      "image/png": "[encoded data removed]",
      "text/plain": [
       "<matplotlib.figure.Figure at 0xc1d1c50>"
      ]
     },
     "metadata": {},
     "output_type": "display_data"
    }
   ],
   "source": [
    "fig = plt.figure(figsize=(12, 6))\n",
    "N = tau_samples.shape[0]\n",
    "expected_texts_per_day = np.zeros(n_count_data)\n",
    "for day in range(0, n_count_data):\n",
    "    ix = day < tau_samples\n",
    "    \n",
    "    expected_texts_per_day[day] = (lambda_1_samples[ix].sum() + lambda_2_samples[~ix].sum()) / N\n",
    "    \n",
    "plt.plot(range(n_count_data), expected_texts_per_day, lw=4, color='#E24A33', label='expected number of text-messages received')\n",
    "plt.xlim(0, n_count_data)\n",
    "plt.xlabel('day')\n",
    "plt.ylabel('Expected number of text-messages received')\n",
    "plt.ylim(0, 60)\n",
    "plt.bar(np.arange(len(count_data)), count_data, color='#348ABD', alpha=0.65, label='observed texts per day')\n",
    "plt.legend(loc='upper left')"
   ]
  },
  {
   "cell_type": "markdown",
   "metadata": {},
   "source": [
    "我们可以看到确实突然在44天附近发生了行为变化。我们可以分析下是什么导致了变化（实际上第45天是圣诞节，并且之后我离开了女友，去了多伦多）"
   ]
  },
  {
   "cell_type": "markdown",
   "metadata": {},
   "source": [
    "##### Exercises\n",
    "1\\.  Using `lambda_1_samples` and `lambda_2_samples`, what is the mean of the posterior distributions of $\\lambda_1$ and $\\lambda_2$?"
   ]
  },
  {
   "cell_type": "code",
   "execution_count": 28,
   "metadata": {
    "collapsed": false
   },
   "outputs": [
    {
     "data": {
      "text/plain": [
       "20.229635196557183"
      ]
     },
     "execution_count": 28,
     "metadata": {},
     "output_type": "execute_result"
    }
   ],
   "source": [
    "(lambda_1_samples.sum() + lambda_2_samples.sum()) / (lambda_1_samples.size + lambda_2_samples.size)"
   ]
  },
  {
   "cell_type": "markdown",
   "metadata": {},
   "source": [
    "2\\.  What is the expected percentage increase in text-message rates? `hint:` compute the mean of `lambda_1_samples/lambda_2_samples`. Note that this quantity is very different from `lambda_1_samples.mean()/lambda_2_samples.mean()`."
   ]
  },
  {
   "cell_type": "code",
   "execution_count": 32,
   "metadata": {
    "collapsed": false
   },
   "outputs": [
    {
     "data": {
      "text/plain": [
       "0.78330538666803817"
      ]
     },
     "execution_count": 32,
     "metadata": {},
     "output_type": "execute_result"
    }
   ],
   "source": [
    "(lambda_1_samples / lambda_2_samples).mean()"
   ]
  },
  {
   "cell_type": "code",
   "execution_count": 33,
   "metadata": {
    "collapsed": false
   },
   "outputs": [
    {
     "data": {
      "text/plain": [
       "0.78206891517101806"
      ]
     },
     "execution_count": 33,
     "metadata": {},
     "output_type": "execute_result"
    }
   ],
   "source": [
    "lambda_1_samples.mean()/lambda_2_samples.mean()"
   ]
  },
  {
   "cell_type": "markdown",
   "metadata": {},
   "source": [
    "3\\. What is the mean of $\\lambda_1$ **given** that we know $\\tau$ is less than 45.  That is, suppose we have been given new information that the change in behaviour occurred prior to day 45. What is the expected value of $\\lambda_1$ now? (You do not need to redo the PyMC3 part. Just consider all instances where `tau_samples < 45`.)"
   ]
  },
  {
   "cell_type": "code",
   "execution_count": 34,
   "metadata": {
    "collapsed": false
   },
   "outputs": [
    {
     "data": {
      "text/plain": [
       "17.755620664821919"
      ]
     },
     "execution_count": 34,
     "metadata": {},
     "output_type": "execute_result"
    }
   ],
   "source": [
    "idx = tau_samples < 45\n",
    "\n",
    "lambda_1_samples[idx].mean() "
   ]
  },
  {
   "cell_type": "code",
   "execution_count": 35,
   "metadata": {
    "collapsed": false
   },
   "outputs": [
    {
     "data": {
      "text/plain": [
       "17.755731798911544"
      ]
     },
     "execution_count": 35,
     "metadata": {},
     "output_type": "execute_result"
    }
   ],
   "source": [
    "lambda_1_samples.mean()"
   ]
  },
  {
   "cell_type": "markdown",
   "metadata": {},
   "source": [
    "### References\n",
    "\n",
    "\n",
    "-  [1] Gelman, Andrew. N.p.. Web. 22 Jan 2013. [N is never large enough](http://andrewgelman.com/2005/07/n_is_never_large).\n",
    "-  [2] Norvig, Peter. 2009. [The Unreasonable Effectiveness of Data](http://static.googleusercontent.com/media/research.google.com/en//pubs/archive/35179.pdf).\n",
    "- [3] Salvatier, J, Wiecki TV, and Fonnesbeck C. (2016) Probabilistic programming in Python using PyMC3. *PeerJ Computer Science* 2:e55 <https://doi.org/10.7717/peerj-cs.55>\n",
    "- [4] Jimmy Lin and Alek Kolcz. Large-Scale Machine Learning at Twitter. Proceedings of the 2012 ACM SIGMOD International Conference on Management of Data (SIGMOD 2012), pages 793-804, May 2012, Scottsdale, Arizona.\n",
    "- [5] Cronin, Beau. \"Why Probabilistic Programming Matters.\" 24 Mar 2013. Google, Online Posting to Google . Web. 24 Mar. 2013. <https://plus.google.com/u/0/107971134877020469960/posts/KpeRdJKR6Z1>."
   ]
  },
  {
   "cell_type": "code",
   "execution_count": null,
   "metadata": {
    "collapsed": true
   },
   "outputs": [],
   "source": [
    "from IPython.core.display import HTML\n",
    "def css_styling():\n",
    "    styles = open(\"../styles/custom.css\", \"r\").read()\n",
    "    return HTML(styles)\n",
    "css_styling()"
   ]
  }
 ],
 "metadata": {
  "anaconda-cloud": {},
  "kernelspec": {
   "display_name": "Python [Root]",
   "language": "python",
   "name": "Python [Root]"
  },
  "language_info": {
   "codemirror_mode": {
    "name": "ipython",
    "version": 3
   },
   "file_extension": ".py",
   "mimetype": "text/x-python",
   "name": "python",
   "nbconvert_exporter": "python",
   "pygments_lexer": "ipython3",
   "version": "3.5.2"
  }
 },
 "nbformat": 4,
 "nbformat_minor": 0
}
